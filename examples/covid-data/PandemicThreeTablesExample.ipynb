{
 "cells": [
  {
   "cell_type": "markdown",
   "metadata": {},
   "source": [
    "## Vaccine Adverse Event Reporting System (VAERS) "
   ]
  },
  {
   "cell_type": "code",
   "execution_count": 1,
   "metadata": {},
   "outputs": [],
   "source": [
    "import warnings\n",
    "warnings.filterwarnings(\"ignore\", category=DeprecationWarning)"
   ]
  },
  {
   "cell_type": "code",
   "execution_count": 2,
   "metadata": {},
   "outputs": [
    {
     "name": "stdout",
     "output_type": "stream",
     "text": [
      "{'FEAST_CORE_URL': 'core:6565',\n",
      " 'FEAST_HISTORICAL_FEATURE_OUTPUT_FORMAT': 'parquet',\n",
      " 'FEAST_HISTORICAL_FEATURE_OUTPUT_LOCATION': 'file:///shared/historical_feature_output',\n",
      " 'FEAST_REDIS_HOST': 'redis',\n",
      " 'FEAST_SERVING_URL': 'online_serving:6566',\n",
      " 'FEAST_SPARK_HOME': '/usr/local/spark',\n",
      " 'FEAST_SPARK_LAUNCHER': 'standalone',\n",
      " 'FEAST_SPARK_STAGING_LOCATION': 'file:///shared/staging',\n",
      " 'FEAST_SPARK_STANDALONE_MASTER': 'local'}\n"
     ]
    }
   ],
   "source": [
    "import os\n",
    "from pprint import pprint\n",
    "pprint({key: value for key, value in os.environ.items() if key.startswith(\"FEAST_\")})"
   ]
  },
  {
   "cell_type": "markdown",
   "metadata": {},
   "source": [
    "### Data Preperation"
   ]
  },
  {
   "cell_type": "markdown",
   "metadata": {},
   "source": [
    "VAERS data are from a passive surveillance system and represent unverified reports of health events that occur after vaccination. \n",
    "\n",
    "Such data are subject to limitations of under-reporting, simultaneous administration of multiple vaccine antigens, reporting bias, and lack of incidence rates in unvaccinated comparison groups. "
   ]
  },
  {
   "cell_type": "code",
   "execution_count": 3,
   "metadata": {},
   "outputs": [],
   "source": [
    "import pandas as pd\n",
    "import numpy as np\n",
    "from datetime import datetime"
   ]
  },
  {
   "cell_type": "code",
   "execution_count": 4,
   "metadata": {},
   "outputs": [],
   "source": [
    "covid_data_df = pd.read_csv('2021VAERSDATA.csv', encoding='latin', \n",
    "                               dtype={col: np.float32 for col in ['AGE_YRS', 'CAGE_YR', 'CAGE_MO', 'HOSPDAYS', 'NUMDAYS']})\n",
    "covid_data_df['DIED'] = covid_data_df['DIED'].astype('string')\n",
    "covid_data_df['L_THREAT'] = covid_data_df['L_THREAT'].astype('string')\n",
    "covid_data_df['RECOVD'] = covid_data_df['RECOVD'].astype('string')\n",
    "\n",
    "covid_data_df.columns = [x.lower() for x in covid_data_df.columns]\n",
    "\n",
    "covid_data_df['datetime'] = pd.to_datetime(\n",
    "            np.random.randint(\n",
    "                datetime(2020, 10, 10).timestamp(),\n",
    "                datetime(2020, 10, 20).timestamp(),\n",
    "                size=5351),\n",
    "        unit=\"s\"\n",
    "    )\n",
    "covid_data_df['created'] = pd.to_datetime(datetime.now())"
   ]
  },
  {
   "cell_type": "code",
   "execution_count": 5,
   "metadata": {},
   "outputs": [
    {
     "data": {
      "text/plain": [
       "vaers_id                 int64\n",
       "recvdate                object\n",
       "state                   object\n",
       "age_yrs                float32\n",
       "cage_yr                float32\n",
       "cage_mo                float32\n",
       "sex                     object\n",
       "rpt_date                object\n",
       "symptom_text            object\n",
       "died                    string\n",
       "datedied                object\n",
       "l_threat                string\n",
       "er_visit                object\n",
       "hospital                object\n",
       "hospdays               float32\n",
       "x_stay                  object\n",
       "disable                 object\n",
       "recovd                  string\n",
       "vax_date                object\n",
       "onset_date              object\n",
       "numdays                float32\n",
       "lab_data                object\n",
       "v_adminby               object\n",
       "v_fundby                object\n",
       "other_meds              object\n",
       "cur_ill                 object\n",
       "history                 object\n",
       "prior_vax               object\n",
       "splttype                object\n",
       "form_vers                int64\n",
       "todays_date             object\n",
       "birth_defect            object\n",
       "ofc_visit               object\n",
       "er_ed_visit             object\n",
       "allergies               object\n",
       "datetime        datetime64[ns]\n",
       "created         datetime64[ns]\n",
       "dtype: object"
      ]
     },
     "execution_count": 5,
     "metadata": {},
     "output_type": "execute_result"
    }
   ],
   "source": [
    "covid_data_df.dtypes"
   ]
  },
  {
   "cell_type": "code",
   "execution_count": 6,
   "metadata": {},
   "outputs": [],
   "source": [
    "covid_symptoms_df = pd.read_csv('2021VAERSSYMPTOMS.csv', encoding='latin',\n",
    "                                  dtype={col: np.float32 for col in ['SYMPTOMVERSION1', 'SYMPTOMVERSION2', 'SYMPTOMVERSION3', 'SYMPTOMVERSION4', 'SYMPTOMVERSION5']})\n",
    "\n",
    "covid_symptoms_df['SYMPTOM1'] = covid_symptoms_df['SYMPTOM1'].astype('string')\n",
    "covid_symptoms_df['SYMPTOM2'] = covid_symptoms_df['SYMPTOM2'].astype('string')\n",
    "covid_symptoms_df['SYMPTOM3'] = covid_symptoms_df['SYMPTOM3'].astype('string')\n",
    "covid_symptoms_df['SYMPTOM4'] = covid_symptoms_df['SYMPTOM4'].astype('string')\n",
    "covid_symptoms_df['SYMPTOM5'] = covid_symptoms_df['SYMPTOM5'].astype('string')\n",
    "\n",
    "covid_symptoms_df.columns = [x.lower() for x in covid_symptoms_df.columns]\n",
    "covid_symptoms_df['datetime'] = pd.to_datetime(\n",
    "            np.random.randint(\n",
    "                datetime(2020, 10, 10).timestamp(),\n",
    "                datetime(2020, 10, 20).timestamp(),\n",
    "                size=8640),\n",
    "        unit=\"s\"\n",
    "    )\n",
    "covid_symptoms_df['created'] = pd.to_datetime(datetime.now())"
   ]
  },
  {
   "cell_type": "code",
   "execution_count": 7,
   "metadata": {},
   "outputs": [
    {
     "data": {
      "text/plain": [
       "vaers_id                    int64\n",
       "symptom1                   string\n",
       "symptomversion1           float32\n",
       "symptom2                   string\n",
       "symptomversion2           float32\n",
       "symptom3                   string\n",
       "symptomversion3           float32\n",
       "symptom4                   string\n",
       "symptomversion4           float32\n",
       "symptom5                   string\n",
       "symptomversion5           float32\n",
       "datetime           datetime64[ns]\n",
       "created            datetime64[ns]\n",
       "dtype: object"
      ]
     },
     "execution_count": 7,
     "metadata": {},
     "output_type": "execute_result"
    }
   ],
   "source": [
    "covid_symptoms_df.dtypes"
   ]
  },
  {
   "cell_type": "code",
   "execution_count": 8,
   "metadata": {},
   "outputs": [],
   "source": [
    "covid_vax_df = pd.read_csv('2021VAERSVAX.csv', encoding='latin')\n",
    "covid_vax_df['VAX_TYPE'] = covid_vax_df['VAX_TYPE'].astype('string')\n",
    "covid_vax_df['VAX_MANU'] = covid_vax_df['VAX_MANU'].astype('string')\n",
    "\n",
    "covid_vax_df.columns = [x.lower() for x in covid_vax_df.columns]\n",
    "covid_vax_df['datetime'] = pd.to_datetime(\n",
    "            np.random.randint(\n",
    "                datetime(2020, 10, 10).timestamp(),\n",
    "                datetime(2020, 10, 20).timestamp(),\n",
    "                size=5471),\n",
    "        unit=\"s\"\n",
    "    )\n",
    "covid_vax_df['created'] = pd.to_datetime(datetime.now())"
   ]
  },
  {
   "cell_type": "code",
   "execution_count": 9,
   "metadata": {},
   "outputs": [
    {
     "data": {
      "text/plain": [
       "vaers_id                    int64\n",
       "vax_type                   string\n",
       "vax_manu                   string\n",
       "vax_lot                    object\n",
       "vax_dose_series            object\n",
       "vax_route                  object\n",
       "vax_site                   object\n",
       "vax_name                   object\n",
       "datetime           datetime64[ns]\n",
       "created            datetime64[ns]\n",
       "dtype: object"
      ]
     },
     "execution_count": 9,
     "metadata": {},
     "output_type": "execute_result"
    }
   ],
   "source": [
    "covid_vax_df.dtypes"
   ]
  },
  {
   "cell_type": "markdown",
   "metadata": {},
   "source": [
    "### Basic Imports and Feast Client initialization"
   ]
  },
  {
   "cell_type": "code",
   "execution_count": 10,
   "metadata": {},
   "outputs": [],
   "source": [
    "import os\n",
    "\n",
    "from feast import Client, Feature, Entity, ValueType, FeatureTable\n",
    "from feast.data_source import FileSource, KafkaSource\n",
    "from feast.data_format import ParquetFormat, AvroFormat"
   ]
  },
  {
   "cell_type": "code",
   "execution_count": 12,
   "metadata": {},
   "outputs": [],
   "source": [
    "import warnings\n",
    "warnings.filterwarnings(\"ignore\", category=DeprecationWarning)\n",
    "client = Client()"
   ]
  },
  {
   "cell_type": "markdown",
   "metadata": {},
   "source": [
    "### Declare Features and Entities"
   ]
  },
  {
   "cell_type": "code",
   "execution_count": 13,
   "metadata": {},
   "outputs": [],
   "source": [
    "vaers_id = Entity(name=\"vaers_id\", description=\"VAERS Identification Number\", value_type=ValueType.INT64)"
   ]
  },
  {
   "cell_type": "code",
   "execution_count": 14,
   "metadata": {},
   "outputs": [],
   "source": [
    "age_yrs   = Feature(\"age_yrs\", ValueType.FLOAT)\n",
    "hospdays  = Feature(\"hospdays\", ValueType.FLOAT)\n",
    "died      = Feature(\"died\", ValueType.STRING)\n",
    "l_threat  = Feature(\"l_threat\", ValueType.STRING)\n",
    "recovd    = Feature(\"recovd\", ValueType.STRING)\n",
    "\n",
    "vax_type = Feature(\"vax_type\", ValueType.STRING)\n",
    "vax_manu = Feature(\"vax_manu\", ValueType.STRING)\n",
    "\n",
    "symptom1 = Feature(\"symptom1\", ValueType.STRING)\n",
    "symptom2 = Feature(\"symptom2\", ValueType.STRING)\n",
    "symptom3 = Feature(\"symptom3\", ValueType.STRING)\n",
    "symptom4 = Feature(\"symptom4\", ValueType.STRING)\n",
    "symptom5 = Feature(\"symptom5\", ValueType.STRING)"
   ]
  },
  {
   "cell_type": "code",
   "execution_count": 15,
   "metadata": {},
   "outputs": [],
   "source": [
    "# This is the location we're using for the offline feature store.\n",
    "\n",
    "import os\n",
    "demo_data_location = os.path.join(os.getenv(\"FEAST_SPARK_STAGING_LOCATION\", \"file:///home/jovyan/\"), \"test_data\")"
   ]
  },
  {
   "cell_type": "code",
   "execution_count": 16,
   "metadata": {},
   "outputs": [],
   "source": [
    "covid_data_source_uri = os.path.join(demo_data_location, \"covid_data\")\n",
    "\n",
    "covid_data = FeatureTable(\n",
    "    name = \"covid_data\",\n",
    "    entities = [\"vaers_id\"],\n",
    "    features = [\n",
    "        age_yrs, \n",
    "        hospdays,\n",
    "        died,    \n",
    "        l_threat,\n",
    "        recovd  \n",
    "    ],\n",
    "    batch_source=FileSource(\n",
    "        event_timestamp_column=\"datetime\",\n",
    "        created_timestamp_column=\"created\",\n",
    "        file_format=ParquetFormat(),\n",
    "        file_url=covid_data_source_uri,\n",
    "        date_partition_column=\"date\"\n",
    "    )\n",
    ")"
   ]
  },
  {
   "cell_type": "code",
   "execution_count": 17,
   "metadata": {},
   "outputs": [],
   "source": [
    "covid_symptoms_source_uri = os.path.join(demo_data_location, \"covid_symptoms\")\n",
    "\n",
    "covid_symptoms = FeatureTable(\n",
    "    name = \"covid_symptoms\",\n",
    "    entities = [\"vaers_id\"],\n",
    "    features = [\n",
    "        symptom1,\n",
    "        symptom2,\n",
    "        symptom3,\n",
    "        symptom4,\n",
    "        symptom5\n",
    "    ],\n",
    "    batch_source=FileSource(\n",
    "        event_timestamp_column=\"datetime\",\n",
    "        created_timestamp_column=\"created\",\n",
    "        file_format=ParquetFormat(),\n",
    "        file_url=covid_symptoms_source_uri,\n",
    "        date_partition_column=\"date\"\n",
    "    )\n",
    ")"
   ]
  },
  {
   "cell_type": "code",
   "execution_count": 18,
   "metadata": {},
   "outputs": [],
   "source": [
    "covid_vax_source_uri = os.path.join(demo_data_location, \"covid_vax\")\n",
    "\n",
    "covid_vax = FeatureTable(\n",
    "name = \"covid_vax\",\n",
    "    entities = [\"vaers_id\"],\n",
    "    features = [\n",
    "        vax_type,\n",
    "        vax_manu\n",
    "    ],\n",
    "    batch_source=FileSource(\n",
    "        event_timestamp_column=\"datetime\",\n",
    "        created_timestamp_column=\"created\",\n",
    "        file_format=ParquetFormat(),\n",
    "        file_url=covid_vax_source_uri,\n",
    "        date_partition_column=\"date\"\n",
    "    )\n",
    ")"
   ]
  },
  {
   "cell_type": "markdown",
   "metadata": {},
   "source": [
    "### Registering entities and feature tables in Feast Core"
   ]
  },
  {
   "cell_type": "code",
   "execution_count": 39,
   "metadata": {},
   "outputs": [],
   "source": [
    "client.apply(vaers_id)\n",
    "client.apply(covid_data)\n",
    "client.apply(covid_symptoms)\n",
    "client.apply(covid_vax)"
   ]
  },
  {
   "cell_type": "code",
   "execution_count": 40,
   "metadata": {},
   "outputs": [
    {
     "name": "stdout",
     "output_type": "stream",
     "text": [
      "spec:\n",
      "  name: covid_data\n",
      "  entities:\n",
      "  - vaers_id\n",
      "  features:\n",
      "  - name: hospdays\n",
      "    valueType: FLOAT\n",
      "  - name: died\n",
      "    valueType: STRING\n",
      "  - name: age_yrs\n",
      "    valueType: FLOAT\n",
      "  - name: l_threat\n",
      "    valueType: STRING\n",
      "  - name: recovd\n",
      "    valueType: STRING\n",
      "  batchSource:\n",
      "    type: BATCH_FILE\n",
      "    eventTimestampColumn: datetime\n",
      "    datePartitionColumn: date\n",
      "    createdTimestampColumn: created\n",
      "    fileOptions:\n",
      "      fileFormat:\n",
      "        parquetFormat: {}\n",
      "      fileUrl: file:///shared/staging/test_data/covid_data\n",
      "meta:\n",
      "  createdTimestamp: '2021-03-03T13:28:37Z'\n",
      "\n",
      "spec:\n",
      "  name: covid_symptoms\n",
      "  entities:\n",
      "  - vaers_id\n",
      "  features:\n",
      "  - name: symptom5\n",
      "    valueType: STRING\n",
      "  - name: symptom3\n",
      "    valueType: STRING\n",
      "  - name: symptom4\n",
      "    valueType: STRING\n",
      "  - name: symptom1\n",
      "    valueType: STRING\n",
      "  - name: symptom2\n",
      "    valueType: STRING\n",
      "  batchSource:\n",
      "    type: BATCH_FILE\n",
      "    eventTimestampColumn: datetime\n",
      "    datePartitionColumn: date\n",
      "    createdTimestampColumn: created\n",
      "    fileOptions:\n",
      "      fileFormat:\n",
      "        parquetFormat: {}\n",
      "      fileUrl: file:///shared/staging/test_data/covid_symptoms\n",
      "meta:\n",
      "  createdTimestamp: '2021-03-03T13:28:37Z'\n",
      "\n",
      "spec:\n",
      "  name: covid_vax\n",
      "  entities:\n",
      "  - vaers_id\n",
      "  features:\n",
      "  - name: vax_manu\n",
      "    valueType: STRING\n",
      "  - name: vax_type\n",
      "    valueType: STRING\n",
      "  batchSource:\n",
      "    type: BATCH_FILE\n",
      "    eventTimestampColumn: datetime\n",
      "    datePartitionColumn: date\n",
      "    createdTimestampColumn: created\n",
      "    fileOptions:\n",
      "      fileFormat:\n",
      "        parquetFormat: {}\n",
      "      fileUrl: file:///shared/staging/test_data/covid_vax\n",
      "meta:\n",
      "  createdTimestamp: '2021-03-03T14:46:25Z'\n",
      "\n"
     ]
    }
   ],
   "source": [
    "print(client.get_feature_table(\"covid_data\").to_yaml())\n",
    "print(client.get_feature_table(\"covid_symptoms\").to_yaml())\n",
    "print(client.get_feature_table(\"covid_vax\").to_yaml())"
   ]
  },
  {
   "cell_type": "code",
   "execution_count": 43,
   "metadata": {},
   "outputs": [],
   "source": [
    "entities = covid_data_df['vaers_id'].values"
   ]
  },
  {
   "cell_type": "markdown",
   "metadata": {},
   "source": [
    "### Populating batch source"
   ]
  },
  {
   "cell_type": "code",
   "execution_count": 44,
   "metadata": {},
   "outputs": [
    {
     "name": "stdout",
     "output_type": "stream",
     "text": [
      "Removing temporary file(s)...\n",
      "Data has been successfully ingested into FeatureTable batch source.\n",
      "Removing temporary file(s)...\n",
      "Data has been successfully ingested into FeatureTable batch source.\n",
      "Removing temporary file(s)...\n",
      "Data has been successfully ingested into FeatureTable batch source.\n"
     ]
    }
   ],
   "source": [
    "client.ingest(covid_data, covid_data_df)\n",
    "client.ingest(covid_symptoms, covid_symptoms_df)\n",
    "client.ingest(covid_vax, covid_vax_df)"
   ]
  },
  {
   "cell_type": "code",
   "execution_count": 45,
   "metadata": {},
   "outputs": [],
   "source": [
    "import gcsfs\n",
    "from pyarrow.parquet import ParquetDataset\n",
    "from urllib.parse import urlparse"
   ]
  },
  {
   "cell_type": "code",
   "execution_count": 46,
   "metadata": {},
   "outputs": [],
   "source": [
    "def read_parquet(uri):\n",
    "    parsed_uri = urlparse(uri)\n",
    "    if parsed_uri.scheme == \"file\":\n",
    "        return pd.read_parquet(parsed_uri.path)\n",
    "    elif parsed_uri.scheme == \"gs\":\n",
    "        fs = gcsfs.GCSFileSystem()\n",
    "        files = [\"gs://\" + path for path in fs.glob(uri + '/part-*')]\n",
    "        ds = ParquetDataset(files, filesystem=fs)\n",
    "        return ds.read().to_pandas()\n",
    "    elif parsed_uri.scheme == 's3':\n",
    "        import s3fs\n",
    "        fs = s3fs.S3FileSystem()\n",
    "        files = [\"s3://\" + path for path in fs.glob(uri + '/part-*')]\n",
    "        ds = ParquetDataset(files, filesystem=fs)\n",
    "        return ds.read().to_pandas()\n",
    "    elif parsed_uri.scheme == 'wasbs':\n",
    "        import adlfs\n",
    "        fs = adlfs.AzureBlobFileSystem(\n",
    "            account_name=os.getenv('FEAST_AZURE_BLOB_ACCOUNT_NAME'), account_key=os.getenv('FEAST_AZURE_BLOB_ACCOUNT_ACCESS_KEY')\n",
    "        )\n",
    "        uripath = parsed_uri.username + parsed_uri.path\n",
    "        files = fs.glob(uripath + '/part-*')\n",
    "        ds = ParquetDataset(files, filesystem=fs)\n",
    "        return ds.read().to_pandas()\n",
    "    else:\n",
    "        raise ValueError(f\"Unsupported URL scheme {uri}\")"
   ]
  },
  {
   "cell_type": "markdown",
   "metadata": {},
   "source": [
    "### Historical Retrieval for Training"
   ]
  },
  {
   "cell_type": "code",
   "execution_count": 47,
   "metadata": {},
   "outputs": [
    {
     "data": {
      "text/html": [
       "<div>\n",
       "<style scoped>\n",
       "    .dataframe tbody tr th:only-of-type {\n",
       "        vertical-align: middle;\n",
       "    }\n",
       "\n",
       "    .dataframe tbody tr th {\n",
       "        vertical-align: top;\n",
       "    }\n",
       "\n",
       "    .dataframe thead th {\n",
       "        text-align: right;\n",
       "    }\n",
       "</style>\n",
       "<table border=\"1\" class=\"dataframe\">\n",
       "  <thead>\n",
       "    <tr style=\"text-align: right;\">\n",
       "      <th></th>\n",
       "      <th>vaers_id</th>\n",
       "      <th>event_timestamp</th>\n",
       "    </tr>\n",
       "  </thead>\n",
       "  <tbody>\n",
       "    <tr>\n",
       "      <th>0</th>\n",
       "      <td>918773</td>\n",
       "      <td>2021-01-17</td>\n",
       "    </tr>\n",
       "    <tr>\n",
       "      <th>1</th>\n",
       "      <td>993138</td>\n",
       "      <td>2021-01-19</td>\n",
       "    </tr>\n",
       "    <tr>\n",
       "      <th>2</th>\n",
       "      <td>990694</td>\n",
       "      <td>2021-02-08</td>\n",
       "    </tr>\n",
       "    <tr>\n",
       "      <th>3</th>\n",
       "      <td>950980</td>\n",
       "      <td>2021-01-25</td>\n",
       "    </tr>\n",
       "    <tr>\n",
       "      <th>4</th>\n",
       "      <td>933260</td>\n",
       "      <td>2021-01-30</td>\n",
       "    </tr>\n",
       "  </tbody>\n",
       "</table>\n",
       "</div>"
      ],
      "text/plain": [
       "   vaers_id event_timestamp\n",
       "0    918773      2021-01-17\n",
       "1    993138      2021-01-19\n",
       "2    990694      2021-02-08\n",
       "3    950980      2021-01-25\n",
       "4    933260      2021-01-30"
      ]
     },
     "execution_count": 47,
     "metadata": {},
     "output_type": "execute_result"
    }
   ],
   "source": [
    "entities_with_timestamp = pd.DataFrame(columns=['vaers_id', 'event_timestamp'])\n",
    "entities_with_timestamp['vaers_id'] = np.random.choice(entities, 5, replace=False)\n",
    "entities_with_timestamp['event_timestamp'] = pd.to_datetime(np.random.randint(\n",
    "    datetime(2021, 1, 1).timestamp(),\n",
    "    datetime(2021, 2, 12).timestamp(),\n",
    "    size=5), unit='s')\n",
    "\n",
    "entities_with_timestamp['event_timestamp'] = pd.to_datetime(entities_with_timestamp['event_timestamp']).dt.date\n",
    "entities_with_timestamp['event_timestamp'] = pd.to_datetime(entities_with_timestamp['event_timestamp'])\n",
    "\n",
    "entities_with_timestamp"
   ]
  },
  {
   "cell_type": "code",
   "execution_count": 48,
   "metadata": {},
   "outputs": [],
   "source": [
    "job = client.get_historical_features(\n",
    "    feature_refs=[\n",
    "        \"covid_data:age_yrs\",\n",
    "        \"covid_data:hospdays\",\n",
    "        \"covid_data:died\",\n",
    "        \"covid_data:l_threat\",\n",
    "        \"covid_data:recovd\",\n",
    "        \"covid_symptoms:symptom1\",\n",
    "        \"covid_symptoms:symptom2\",\n",
    "        \"covid_symptoms:symptom3\",\n",
    "        \"covid_symptoms:symptom4\",\n",
    "        \"covid_symptoms:symptom5\",\n",
    "        \"covid_vax:vax_type\",\n",
    "        \"covid_vax:vax_manu\"\n",
    "    ], \n",
    "    entity_source=entities_with_timestamp\n",
    ")"
   ]
  },
  {
   "cell_type": "code",
   "execution_count": 49,
   "metadata": {},
   "outputs": [],
   "source": [
    "output_file_uri = job.get_output_file_uri()"
   ]
  },
  {
   "cell_type": "code",
   "execution_count": 50,
   "metadata": {},
   "outputs": [],
   "source": [
    "test = read_parquet(output_file_uri)"
   ]
  },
  {
   "cell_type": "code",
   "execution_count": 52,
   "metadata": {},
   "outputs": [
    {
     "data": {
      "text/html": [
       "<div>\n",
       "<style scoped>\n",
       "    .dataframe tbody tr th:only-of-type {\n",
       "        vertical-align: middle;\n",
       "    }\n",
       "\n",
       "    .dataframe tbody tr th {\n",
       "        vertical-align: top;\n",
       "    }\n",
       "\n",
       "    .dataframe thead th {\n",
       "        text-align: right;\n",
       "    }\n",
       "</style>\n",
       "<table border=\"1\" class=\"dataframe\">\n",
       "  <thead>\n",
       "    <tr style=\"text-align: right;\">\n",
       "      <th></th>\n",
       "      <th>vaers_id</th>\n",
       "      <th>event_timestamp</th>\n",
       "      <th>covid_data__hospdays</th>\n",
       "      <th>covid_data__died</th>\n",
       "      <th>covid_data__age_yrs</th>\n",
       "      <th>covid_data__l_threat</th>\n",
       "      <th>covid_data__recovd</th>\n",
       "      <th>covid_symptoms__symptom5</th>\n",
       "      <th>covid_symptoms__symptom3</th>\n",
       "      <th>covid_symptoms__symptom4</th>\n",
       "      <th>covid_symptoms__symptom1</th>\n",
       "      <th>covid_symptoms__symptom2</th>\n",
       "      <th>covid_vax__vax_manu</th>\n",
       "      <th>covid_vax__vax_type</th>\n",
       "    </tr>\n",
       "  </thead>\n",
       "  <tbody>\n",
       "    <tr>\n",
       "      <th>0</th>\n",
       "      <td>950980</td>\n",
       "      <td>2021-01-25</td>\n",
       "      <td>4.0</td>\n",
       "      <td>None</td>\n",
       "      <td>50.0</td>\n",
       "      <td>Y</td>\n",
       "      <td>N</td>\n",
       "      <td>Immune thrombocytopenia</td>\n",
       "      <td>Hepatitis B test negative</td>\n",
       "      <td>Hepatitis C test negative</td>\n",
       "      <td>Computerised tomogram head normal</td>\n",
       "      <td>HIV test negative</td>\n",
       "      <td>MODERNA</td>\n",
       "      <td>COVID19</td>\n",
       "    </tr>\n",
       "    <tr>\n",
       "      <th>1</th>\n",
       "      <td>990694</td>\n",
       "      <td>2021-02-08</td>\n",
       "      <td>NaN</td>\n",
       "      <td>None</td>\n",
       "      <td>52.0</td>\n",
       "      <td>None</td>\n",
       "      <td>N</td>\n",
       "      <td>None</td>\n",
       "      <td>Migraine</td>\n",
       "      <td>Nausea</td>\n",
       "      <td>Diarrhoea</td>\n",
       "      <td>Fatigue</td>\n",
       "      <td>PFIZER\\BIONTECH</td>\n",
       "      <td>COVID19</td>\n",
       "    </tr>\n",
       "    <tr>\n",
       "      <th>2</th>\n",
       "      <td>933260</td>\n",
       "      <td>2021-01-30</td>\n",
       "      <td>NaN</td>\n",
       "      <td>None</td>\n",
       "      <td>NaN</td>\n",
       "      <td>None</td>\n",
       "      <td>U</td>\n",
       "      <td>None</td>\n",
       "      <td>None</td>\n",
       "      <td>None</td>\n",
       "      <td>Pemphigoid</td>\n",
       "      <td>None</td>\n",
       "      <td>GLAXOSMITHKLINE BIOLOGICALS</td>\n",
       "      <td>VARZOS</td>\n",
       "    </tr>\n",
       "    <tr>\n",
       "      <th>3</th>\n",
       "      <td>993138</td>\n",
       "      <td>2021-01-19</td>\n",
       "      <td>NaN</td>\n",
       "      <td>None</td>\n",
       "      <td>69.0</td>\n",
       "      <td>None</td>\n",
       "      <td>Y</td>\n",
       "      <td>Fatigue</td>\n",
       "      <td>Cough</td>\n",
       "      <td>Dizziness</td>\n",
       "      <td>Anaphylactoid reaction</td>\n",
       "      <td>Blood pressure decreased</td>\n",
       "      <td>MODERNA</td>\n",
       "      <td>COVID19</td>\n",
       "    </tr>\n",
       "    <tr>\n",
       "      <th>4</th>\n",
       "      <td>918773</td>\n",
       "      <td>2021-01-17</td>\n",
       "      <td>NaN</td>\n",
       "      <td>None</td>\n",
       "      <td>47.0</td>\n",
       "      <td>None</td>\n",
       "      <td>N</td>\n",
       "      <td>None</td>\n",
       "      <td>None</td>\n",
       "      <td>None</td>\n",
       "      <td>SARS-CoV-2 test positive</td>\n",
       "      <td>None</td>\n",
       "      <td>PFIZER\\BIONTECH</td>\n",
       "      <td>COVID19</td>\n",
       "    </tr>\n",
       "  </tbody>\n",
       "</table>\n",
       "</div>"
      ],
      "text/plain": [
       "   vaers_id event_timestamp  covid_data__hospdays covid_data__died  \\\n",
       "0    950980      2021-01-25                   4.0             None   \n",
       "1    990694      2021-02-08                   NaN             None   \n",
       "2    933260      2021-01-30                   NaN             None   \n",
       "3    993138      2021-01-19                   NaN             None   \n",
       "4    918773      2021-01-17                   NaN             None   \n",
       "\n",
       "   covid_data__age_yrs covid_data__l_threat covid_data__recovd  \\\n",
       "0                 50.0                    Y                  N   \n",
       "1                 52.0                 None                  N   \n",
       "2                  NaN                 None                  U   \n",
       "3                 69.0                 None                  Y   \n",
       "4                 47.0                 None                  N   \n",
       "\n",
       "  covid_symptoms__symptom5   covid_symptoms__symptom3  \\\n",
       "0  Immune thrombocytopenia  Hepatitis B test negative   \n",
       "1                     None                   Migraine   \n",
       "2                     None                       None   \n",
       "3                  Fatigue                      Cough   \n",
       "4                     None                       None   \n",
       "\n",
       "    covid_symptoms__symptom4           covid_symptoms__symptom1  \\\n",
       "0  Hepatitis C test negative  Computerised tomogram head normal   \n",
       "1                     Nausea                          Diarrhoea   \n",
       "2                       None                         Pemphigoid   \n",
       "3                  Dizziness             Anaphylactoid reaction   \n",
       "4                       None           SARS-CoV-2 test positive   \n",
       "\n",
       "   covid_symptoms__symptom2          covid_vax__vax_manu covid_vax__vax_type  \n",
       "0         HIV test negative                      MODERNA             COVID19  \n",
       "1                   Fatigue              PFIZER\\BIONTECH             COVID19  \n",
       "2                      None  GLAXOSMITHKLINE BIOLOGICALS              VARZOS  \n",
       "3  Blood pressure decreased                      MODERNA             COVID19  \n",
       "4                      None              PFIZER\\BIONTECH             COVID19  "
      ]
     },
     "execution_count": 52,
     "metadata": {},
     "output_type": "execute_result"
    }
   ],
   "source": [
    "test"
   ]
  },
  {
   "cell_type": "markdown",
   "metadata": {},
   "source": [
    "The retrieved result can now be used for model training."
   ]
  },
  {
   "cell_type": "code",
   "execution_count": 53,
   "metadata": {},
   "outputs": [],
   "source": [
    "from pyspark.sql import SparkSession\n",
    "from pyspark.sql.functions import *"
   ]
  },
  {
   "cell_type": "code",
   "execution_count": 54,
   "metadata": {},
   "outputs": [],
   "source": [
    "spark = SparkSession.builder.getOrCreate()"
   ]
  },
  {
   "cell_type": "code",
   "execution_count": 55,
   "metadata": {},
   "outputs": [],
   "source": [
    "myData = spark.read.format(\"csv\").option(\"header\", \"true\").load(\"2021VAERSDATA.csv\")"
   ]
  },
  {
   "cell_type": "code",
   "execution_count": 59,
   "metadata": {},
   "outputs": [
    {
     "data": {
      "text/plain": [
       "StructType(List(StructField(VAERS_ID,StringType,true),StructField(RECVDATE,StringType,true),StructField(STATE,StringType,true),StructField(AGE_YRS,StringType,true),StructField(CAGE_YR,StringType,true),StructField(CAGE_MO,StringType,true),StructField(SEX,StringType,true),StructField(RPT_DATE,StringType,true),StructField(SYMPTOM_TEXT,StringType,true),StructField(DIED,StringType,true),StructField(DATEDIED,StringType,true),StructField(L_THREAT,StringType,true),StructField(ER_VISIT,StringType,true),StructField(HOSPITAL,StringType,true),StructField(HOSPDAYS,StringType,true),StructField(X_STAY,StringType,true),StructField(DISABLE,StringType,true),StructField(RECOVD,StringType,true),StructField(VAX_DATE,StringType,true),StructField(ONSET_DATE,StringType,true),StructField(NUMDAYS,StringType,true),StructField(LAB_DATA,StringType,true),StructField(V_ADMINBY,StringType,true),StructField(V_FUNDBY,StringType,true),StructField(OTHER_MEDS,StringType,true),StructField(CUR_ILL,StringType,true),StructField(HISTORY,StringType,true),StructField(PRIOR_VAX,StringType,true),StructField(SPLTTYPE,StringType,true),StructField(FORM_VERS,StringType,true),StructField(TODAYS_DATE,StringType,true),StructField(BIRTH_DEFECT,StringType,true),StructField(OFC_VISIT,StringType,true),StructField(ER_ED_VISIT,StringType,true),StructField(ALLERGIES,StringType,true)))"
      ]
     },
     "execution_count": 59,
     "metadata": {},
     "output_type": "execute_result"
    }
   ],
   "source": [
    "myData.schema"
   ]
  },
  {
   "cell_type": "code",
   "execution_count": null,
   "metadata": {},
   "outputs": [],
   "source": []
  }
 ],
 "metadata": {
  "kernelspec": {
   "display_name": "Python 3",
   "language": "python",
   "name": "python3"
  },
  "language_info": {
   "codemirror_mode": {
    "name": "ipython",
    "version": 3
   },
   "file_extension": ".py",
   "mimetype": "text/x-python",
   "name": "python",
   "nbconvert_exporter": "python",
   "pygments_lexer": "ipython3",
   "version": "3.8.6"
  }
 },
 "nbformat": 4,
 "nbformat_minor": 4
}
